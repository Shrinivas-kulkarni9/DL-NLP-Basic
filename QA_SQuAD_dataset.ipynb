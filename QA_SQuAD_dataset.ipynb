{
  "nbformat": 4,
  "nbformat_minor": 0,
  "metadata": {
    "colab": {
      "provenance": []
    },
    "kernelspec": {
      "name": "python3",
      "display_name": "Python 3"
    },
    "language_info": {
      "name": "python"
    }
  },
  "cells": [
    {
      "cell_type": "code",
      "execution_count": null,
      "metadata": {
        "colab": {
          "base_uri": "https://localhost:8080/"
        },
        "id": "QAIB0kLAtNHI",
        "outputId": "0560247d-35ab-4a8f-bc87-1cbd5f347cf2"
      },
      "outputs": [
        {
          "output_type": "stream",
          "name": "stdout",
          "text": [
            "Mounted at /content/gdrive\n"
          ]
        }
      ],
      "source": [
        "from google.colab import drive\n",
        "drive.mount(\"/content/gdrive\")"
      ]
    },
    {
      "cell_type": "code",
      "source": [
        "import os\n",
        "import tqdm\n",
        "import json\n",
        "import zipfile\n",
        "import tarfile\n",
        "import pickle\n",
        "import numpy as np\n",
        "import urllib.request"
      ],
      "metadata": {
        "id": "0mYrELerttQR"
      },
      "execution_count": null,
      "outputs": []
    },
    {
      "cell_type": "code",
      "source": [
        "filepath = '/content/gdrive/My Drive/train-v2.0.json'\n",
        "with open(filepath) as f:\n",
        "    data = json.load(f)"
      ],
      "metadata": {
        "id": "_F1_aQIvx3sb"
      },
      "execution_count": null,
      "outputs": []
    },
    {
      "cell_type": "code",
      "source": [
        "from spacy.lang.en import English\n",
        "tokenizer = English()\n",
        "\n",
        "def word_tokenize(sent):\n",
        "    return [token.text for token in tokenizer(sent)]\n",
        "\n",
        "def clean_text(text):\n",
        "    text = text.replace(\"]\", \" ] \")\n",
        "    text = text.replace(\"[\", \" [ \")\n",
        "    text = text.replace(\"\\n\", \" \")\n",
        "    text = text.replace(\"''\", '\" ').replace(\"``\", '\" ')\n",
        "\n",
        "    return text\n",
        "\n",
        "def convert_idx(text, tokens):\n",
        "    current = 0\n",
        "    spans = []\n",
        "    for token in tokens:\n",
        "        current = text.find(token, current)\n",
        "        if current < 0:\n",
        "            print(\"Token {} cannot be found\".format(token))\n",
        "            raise Exception()\n",
        "        spans.append((current, current + len(token)))\n",
        "        current += len(token)\n",
        "    return spans\n",
        "\n",
        "# these lists contain arrays, where each array contains tokens\n",
        "# context_file[i] will correspond to question_file[i] etc, and a token is a word\n",
        "context_file = []\n",
        "question_file = []\n",
        "answer_file = []\n",
        "labels_file = []\n",
        "\n",
        "quesCount = {\"Who\":0,\"What\":0,\"When\":0,\"Where\":0}\n",
        "lenCount = dict()\n",
        "\n",
        "for article_id in tqdm.tqdm(range(len(data['data']))):\n",
        "    list_paragraphs = data['data'][article_id]['paragraphs']\n",
        "    # loop over the paragraphs\n",
        "    for paragraph in list_paragraphs:\n",
        "        context = paragraph['context']\n",
        "        context = clean_text(context)\n",
        "        context_tokens = [w for w in word_tokenize(context) if w]\n",
        "        spans = convert_idx(context, context_tokens)\n",
        "        qas = paragraph['qas']\n",
        "        # loop over Q/A\n",
        "        for qa in qas:\n",
        "            question = qa['question']\n",
        "            question = clean_text(question)\n",
        "            question_tokens = [w for w in word_tokenize(question) if w]\n",
        "            # if str(question_tokens[0]) in quesCount:\n",
        "            #     quesCount[str(question_tokens[0])]+=1\n",
        "            # elif len(question_tokens)>1 and str(question_tokens[1]) in quesCount:\n",
        "            #     quesCount[str(question_tokens[1])]+=1\n",
        "            factoid = False\n",
        "\n",
        "            for qtype in quesCount:\n",
        "                if qtype in question_tokens:\n",
        "                    factoid = True\n",
        "                    quesCount[qtype]+=1\n",
        "                    break\n",
        "                elif (qtype.lower()) in question_tokens:\n",
        "                    factoid = True\n",
        "                    quesCount[qtype]+=1\n",
        "                    break\n",
        "\n",
        "            if not factoid:\n",
        "                continue\n",
        "\n",
        "            if len(question_tokens) in lenCount:\n",
        "                lenCount[len(question_tokens)]+=1\n",
        "            else:\n",
        "                lenCount[len(question_tokens)]=1\n",
        "            # select only one ground truth, the top answer, if any answer\n",
        "            answer_ids = 1 if qa['answers'] else 0\n",
        "            labels = []\n",
        "            if answer_ids:\n",
        "                # for answer_id in range(answer_ids):\n",
        "                answer_id = 0\n",
        "                answer = qa['answers'][answer_id]['text']\n",
        "                answer = clean_text(answer)\n",
        "                answer_tokens = [w for w in word_tokenize(answer) if w]\n",
        "                if len(answer_tokens)>9:\n",
        "                    continue\n",
        "                answer_start = qa['answers'][answer_id]['answer_start']\n",
        "                answer_stop = answer_start + len(answer)\n",
        "                answer_span = []\n",
        "                for idx, span in enumerate(spans):\n",
        "                    if not (answer_stop <= span[0] or answer_start >= span[1]):\n",
        "                        answer_span.append(idx)\n",
        "                if not answer_span:\n",
        "                    continue\n",
        "                labels.append([answer_span[0], answer_span[-1]])\n",
        "                # labels.append(str(answer_span[0]) + ' ' + str(answer_span[-1]))\n",
        "\n",
        "                context_file.append([token for token in context_tokens])\n",
        "                question_file.append([token for token in question_tokens])\n",
        "                answer_file.append([token for token in answer_tokens])\n",
        "                labels_file.append(labels)"
      ],
      "metadata": {
        "colab": {
          "base_uri": "https://localhost:8080/"
        },
        "id": "_jERq6cUzt5y",
        "outputId": "a0fb8294-2f1f-423a-c65c-c14bd7fce1d6"
      },
      "execution_count": null,
      "outputs": [
        {
          "output_type": "stream",
          "name": "stderr",
          "text": [
            "100%|██████████| 442/442 [00:56<00:00,  7.77it/s]\n"
          ]
        }
      ]
    },
    {
      "cell_type": "code",
      "source": [
        "len(question_file)"
      ],
      "metadata": {
        "colab": {
          "base_uri": "https://localhost:8080/"
        },
        "id": "2WrI_sykHl-8",
        "outputId": "f94fa2dd-3a7b-4284-cfb7-5757a31c9d49"
      },
      "execution_count": null,
      "outputs": [
        {
          "output_type": "execute_result",
          "data": {
            "text/plain": [
              "64293"
            ]
          },
          "metadata": {},
          "execution_count": 21
        }
      ]
    },
    {
      "cell_type": "code",
      "source": [
        "import matplotlib.pyplot as plt"
      ],
      "metadata": {
        "id": "9uM5eKZPrzmW"
      },
      "execution_count": null,
      "outputs": []
    },
    {
      "cell_type": "code",
      "source": [
        "maxlen = max(lenCount.keys())\n",
        "hist = [0 for i in range(maxlen)]\n",
        "for i in range(1,maxlen+1):\n",
        "    if i not in lenCount:\n",
        "        continue\n",
        "    hist[i-1]+=lenCount[i]\n",
        "\n",
        "plt.plot(hist)\n",
        "plt.show()"
      ],
      "metadata": {
        "colab": {
          "base_uri": "https://localhost:8080/",
          "height": 265
        },
        "id": "8_5EWd7iqMGD",
        "outputId": "8a7fbe9e-13bb-490e-efa9-15d0d13ac634"
      },
      "execution_count": null,
      "outputs": [
        {
          "output_type": "display_data",
          "data": {
            "text/plain": [
              "<Figure size 432x288 with 1 Axes>"
            ],
            "image/png": "[encoded data removed]"
          },
          "metadata": {
            "needs_background": "light"
          }
        }
      ]
    },
    {
      "cell_type": "code",
      "source": [
        "\n",
        "names = list(quesCount.keys())\n",
        "values = list(quesCount.values())\n",
        "\n",
        "plt.bar(range(len(quesCount)), values, tick_label=names)\n",
        "plt.show()"
      ],
      "metadata": {
        "colab": {
          "base_uri": "https://localhost:8080/",
          "height": 266
        },
        "id": "EtYeHzi3sEcI",
        "outputId": "9cff641b-fc57-4043-c170-ede0e88f4465"
      },
      "execution_count": null,
      "outputs": [
        {
          "output_type": "display_data",
          "data": {
            "text/plain": [
              "<Figure size 432x288 with 1 Axes>"
            ],
            "image/png": "[encoded data removed]"
          },
          "metadata": {
            "needs_background": "light"
          }
        }
      ]
    },
    {
      "cell_type": "code",
      "source": [
        "sum(values)"
      ],
      "metadata": {
        "colab": {
          "base_uri": "https://localhost:8080/"
        },
        "id": "K0-bx1Vt73sv",
        "outputId": "1f2b4902-e266-495e-943f-73895c598287"
      },
      "execution_count": null,
      "outputs": [
        {
          "output_type": "execute_result",
          "data": {
            "text/plain": [
              "104654"
            ]
          },
          "metadata": {},
          "execution_count": 23
        }
      ]
    },
    {
      "cell_type": "code",
      "source": [
        "sum(hist)"
      ],
      "metadata": {
        "id": "1F9CxqvjBuUL",
        "outputId": "ba00402d-7112-4b94-b25b-11c91486bfd7",
        "colab": {
          "base_uri": "https://localhost:8080/"
        }
      },
      "execution_count": null,
      "outputs": [
        {
          "output_type": "execute_result",
          "data": {
            "text/plain": [
              "104654"
            ]
          },
          "metadata": {},
          "execution_count": 24
        }
      ]
    },
    {
      "cell_type": "code",
      "source": [
        "print(len(question_file),len(answer_file),len(labels_file))"
      ],
      "metadata": {
        "colab": {
          "base_uri": "https://localhost:8080/"
        },
        "id": "m2P3IZLIMtqY",
        "outputId": "e22aa9ed-4bde-4455-f434-bd5fccad596e"
      },
      "execution_count": null,
      "outputs": [
        {
          "output_type": "stream",
          "name": "stdout",
          "text": [
            "64293 64293 64293\n"
          ]
        }
      ]
    },
    {
      "cell_type": "code",
      "source": [
        "question_file[:5]"
      ],
      "metadata": {
        "id": "HGEBH5JF30yq"
      },
      "execution_count": null,
      "outputs": []
    },
    {
      "cell_type": "code",
      "source": [
        "answer_file[:5]"
      ],
      "metadata": {
        "id": "CpK362jS4fd1"
      },
      "execution_count": null,
      "outputs": []
    },
    {
      "cell_type": "code",
      "source": [
        "labels_file[:5]"
      ],
      "metadata": {
        "id": "PuoZ2vrhgn2E"
      },
      "execution_count": null,
      "outputs": []
    },
    {
      "cell_type": "code",
      "source": [
        "# VOCAB MAKER\n",
        "\n",
        "word2idx = dict()\n",
        "idx2word = dict()\n",
        "idx=0\n",
        "for tokenset in context_file:\n",
        "    for token in tokenset:\n",
        "        if token not in word2idx:\n",
        "            word2idx[token]=idx\n",
        "            idx2word[idx]=token\n",
        "            idx+=1\n",
        "for tokenset in question_file:\n",
        "    for token in tokenset:\n",
        "        if token not in word2idx:\n",
        "            word2idx[token]=idx\n",
        "            idx2word[idx]=token\n",
        "            idx+=1\n"
      ],
      "metadata": {
        "id": "cxgh3vINuuN5"
      },
      "execution_count": null,
      "outputs": []
    },
    {
      "cell_type": "code",
      "source": [
        "with open(\"/content/gdrive/My Drive/word2idx.json\", \"w\") as outfile:\n",
        "    json.dump(word2idx, outfile)\n",
        "\n",
        "with open(\"/content/gdrive/My Drive/idx2word.json\", \"w\") as outfile:\n",
        "    json.dump(idx2word, outfile)"
      ],
      "metadata": {
        "id": "8XuuCr2XBjBo"
      },
      "execution_count": null,
      "outputs": []
    },
    {
      "cell_type": "code",
      "source": [
        "print(len(word2idx),len(idx2word),idx)"
      ],
      "metadata": {
        "colab": {
          "base_uri": "https://localhost:8080/"
        },
        "id": "Qvl_AVcPwNgj",
        "outputId": "82e2a9b9-a078-4055-e446-3416cd8ceb0f"
      },
      "execution_count": null,
      "outputs": [
        {
          "output_type": "stream",
          "name": "stdout",
          "text": [
            "100195 100195 100195\n"
          ]
        }
      ]
    },
    {
      "cell_type": "code",
      "source": [
        "for i in range(500,519):\n",
        "    print(i,idx2word[i])"
      ],
      "metadata": {
        "colab": {
          "base_uri": "https://localhost:8080/"
        },
        "id": "kq3wzjGIAzg-",
        "outputId": "a425b5d7-dc1c-4636-b3fa-6839f6a3c1db"
      },
      "execution_count": null,
      "outputs": [
        {
          "output_type": "stream",
          "name": "stdout",
          "text": [
            "500 Album\n",
            "501 or\n",
            "502 Rap\n",
            "503 New\n",
            "504 multi\n",
            "505 platinum\n",
            "506 Writing\n",
            "507 Wall\n",
            "508 1999\n",
            "509 features\n",
            "510 some\n",
            "511 widely\n",
            "512 known\n",
            "513 such\n",
            "514 Bills\n",
            "515 single\n",
            "516 Jumpin\n",
            "517 '\n",
            "518 Say\n"
          ]
        }
      ]
    },
    {
      "cell_type": "code",
      "source": [
        "!python3 -m spacy download en_core_web_md\n",
        "\n",
        "## AFTER RUNNING THIS, GO TO RUNTIME AND RESTART RUNTIME TO BE ABLE TO USE EN_CORE_WEB_MD"
      ],
      "metadata": {
        "id": "FzMBAgpOAk22",
        "colab": {
          "base_uri": "https://localhost:8080/"
        },
        "outputId": "b4db9b2e-a226-4c42-8326-9b13747cdd70"
      },
      "execution_count": null,
      "outputs": [
        {
          "output_type": "stream",
          "name": "stdout",
          "text": [
            "Collecting en_core_web_md==2.2.5\n",
            "  Downloading https://github.com/explosion/spacy-models/releases/download/en_core_web_md-2.2.5/en_core_web_md-2.2.5.tar.gz (96.4 MB)\n",
            "\u001b[K     |████████████████████████████████| 96.4 MB 1.3 MB/s \n",
            "\u001b[?25hRequirement already satisfied: spacy>=2.2.2 in /usr/local/lib/python3.7/dist-packages (from en_core_web_md==2.2.5) (2.2.4)\n",
            "Requirement already satisfied: murmurhash<1.1.0,>=0.28.0 in /usr/local/lib/python3.7/dist-packages (from spacy>=2.2.2->en_core_web_md==2.2.5) (1.0.6)\n",
            "Requirement already satisfied: tqdm<5.0.0,>=4.38.0 in /usr/local/lib/python3.7/dist-packages (from spacy>=2.2.2->en_core_web_md==2.2.5) (4.63.0)\n",
            "Requirement already satisfied: blis<0.5.0,>=0.4.0 in /usr/local/lib/python3.7/dist-packages (from spacy>=2.2.2->en_core_web_md==2.2.5) (0.4.1)\n",
            "Requirement already satisfied: thinc==7.4.0 in /usr/local/lib/python3.7/dist-packages (from spacy>=2.2.2->en_core_web_md==2.2.5) (7.4.0)\n",
            "Requirement already satisfied: wasabi<1.1.0,>=0.4.0 in /usr/local/lib/python3.7/dist-packages (from spacy>=2.2.2->en_core_web_md==2.2.5) (0.9.0)\n",
            "Requirement already satisfied: srsly<1.1.0,>=1.0.2 in /usr/local/lib/python3.7/dist-packages (from spacy>=2.2.2->en_core_web_md==2.2.5) (1.0.5)\n",
            "Requirement already satisfied: catalogue<1.1.0,>=0.0.7 in /usr/local/lib/python3.7/dist-packages (from spacy>=2.2.2->en_core_web_md==2.2.5) (1.0.0)\n",
            "Requirement already satisfied: numpy>=1.15.0 in /usr/local/lib/python3.7/dist-packages (from spacy>=2.2.2->en_core_web_md==2.2.5) (1.21.5)\n",
            "Requirement already satisfied: preshed<3.1.0,>=3.0.2 in /usr/local/lib/python3.7/dist-packages (from spacy>=2.2.2->en_core_web_md==2.2.5) (3.0.6)\n",
            "Requirement already satisfied: cymem<2.1.0,>=2.0.2 in /usr/local/lib/python3.7/dist-packages (from spacy>=2.2.2->en_core_web_md==2.2.5) (2.0.6)\n",
            "Requirement already satisfied: requests<3.0.0,>=2.13.0 in /usr/local/lib/python3.7/dist-packages (from spacy>=2.2.2->en_core_web_md==2.2.5) (2.23.0)\n",
            "Requirement already satisfied: plac<1.2.0,>=0.9.6 in /usr/local/lib/python3.7/dist-packages (from spacy>=2.2.2->en_core_web_md==2.2.5) (1.1.3)\n",
            "Requirement already satisfied: setuptools in /usr/local/lib/python3.7/dist-packages (from spacy>=2.2.2->en_core_web_md==2.2.5) (57.4.0)\n",
            "Requirement already satisfied: importlib-metadata>=0.20 in /usr/local/lib/python3.7/dist-packages (from catalogue<1.1.0,>=0.0.7->spacy>=2.2.2->en_core_web_md==2.2.5) (4.11.2)\n",
            "Requirement already satisfied: zipp>=0.5 in /usr/local/lib/python3.7/dist-packages (from importlib-metadata>=0.20->catalogue<1.1.0,>=0.0.7->spacy>=2.2.2->en_core_web_md==2.2.5) (3.7.0)\n",
            "Requirement already satisfied: typing-extensions>=3.6.4 in /usr/local/lib/python3.7/dist-packages (from importlib-metadata>=0.20->catalogue<1.1.0,>=0.0.7->spacy>=2.2.2->en_core_web_md==2.2.5) (3.10.0.2)\n",
            "Requirement already satisfied: chardet<4,>=3.0.2 in /usr/local/lib/python3.7/dist-packages (from requests<3.0.0,>=2.13.0->spacy>=2.2.2->en_core_web_md==2.2.5) (3.0.4)\n",
            "Requirement already satisfied: idna<3,>=2.5 in /usr/local/lib/python3.7/dist-packages (from requests<3.0.0,>=2.13.0->spacy>=2.2.2->en_core_web_md==2.2.5) (2.10)\n",
            "Requirement already satisfied: certifi>=2017.4.17 in /usr/local/lib/python3.7/dist-packages (from requests<3.0.0,>=2.13.0->spacy>=2.2.2->en_core_web_md==2.2.5) (2021.10.8)\n",
            "Requirement already satisfied: urllib3!=1.25.0,!=1.25.1,<1.26,>=1.21.1 in /usr/local/lib/python3.7/dist-packages (from requests<3.0.0,>=2.13.0->spacy>=2.2.2->en_core_web_md==2.2.5) (1.24.3)\n",
            "Building wheels for collected packages: en-core-web-md\n",
            "  Building wheel for en-core-web-md (setup.py) ... \u001b[?25l\u001b[?25hdone\n",
            "  Created wheel for en-core-web-md: filename=en_core_web_md-2.2.5-py3-none-any.whl size=98051301 sha256=1f45773609453a4227f9fa8588ee88657e4ed45d94becb3b79907ff082ff1970\n",
            "  Stored in directory: /tmp/pip-ephem-wheel-cache-5i313a99/wheels/69/c5/b8/4f1c029d89238734311b3269762ab2ee325a42da2ce8edb997\n",
            "Successfully built en-core-web-md\n",
            "Installing collected packages: en-core-web-md\n",
            "Successfully installed en-core-web-md-2.2.5\n",
            "\u001b[38;5;2m✔ Download and installation successful\u001b[0m\n",
            "You can now load the model via spacy.load('en_core_web_md')\n"
          ]
        }
      ]
    },
    {
      "cell_type": "code",
      "source": [
        "import spacy\n",
        "nlp = spacy.load('en_core_web_md')\n",
        "\n",
        "def word2vec(word):\n",
        "    return list(nlp(word).vector)"
      ],
      "metadata": {
        "id": "uNG-0JP6OMIT",
        "colab": {
          "base_uri": "https://localhost:8080/",
          "height": 380
        },
        "outputId": "4ce8249e-908a-4d44-f501-aa351c7a8276"
      },
      "execution_count": null,
      "outputs": [
        {
          "output_type": "error",
          "ename": "OSError",
          "evalue": "ignored",
          "traceback": [
            "\u001b[0;31m---------------------------------------------------------------------------\u001b[0m",
            "\u001b[0;31mOSError\u001b[0m                                   Traceback (most recent call last)",
            "\u001b[0;32m<ipython-input-18-89aeb36ef06f>\u001b[0m in \u001b[0;36m<module>\u001b[0;34m()\u001b[0m\n\u001b[1;32m      1\u001b[0m \u001b[0;32mimport\u001b[0m \u001b[0mspacy\u001b[0m\u001b[0;34m\u001b[0m\u001b[0;34m\u001b[0m\u001b[0m\n\u001b[0;32m----> 2\u001b[0;31m \u001b[0mnlp\u001b[0m \u001b[0;34m=\u001b[0m \u001b[0mspacy\u001b[0m\u001b[0;34m.\u001b[0m\u001b[0mload\u001b[0m\u001b[0;34m(\u001b[0m\u001b[0;34m'en_core_web_md'\u001b[0m\u001b[0;34m)\u001b[0m\u001b[0;34m\u001b[0m\u001b[0;34m\u001b[0m\u001b[0m\n\u001b[0m\u001b[1;32m      3\u001b[0m \u001b[0;34m\u001b[0m\u001b[0m\n\u001b[1;32m      4\u001b[0m \u001b[0;32mdef\u001b[0m \u001b[0mword2vec\u001b[0m\u001b[0;34m(\u001b[0m\u001b[0mword\u001b[0m\u001b[0;34m)\u001b[0m\u001b[0;34m:\u001b[0m\u001b[0;34m\u001b[0m\u001b[0;34m\u001b[0m\u001b[0m\n\u001b[1;32m      5\u001b[0m     \u001b[0;32mreturn\u001b[0m \u001b[0mlist\u001b[0m\u001b[0;34m(\u001b[0m\u001b[0mnlp\u001b[0m\u001b[0;34m(\u001b[0m\u001b[0mword\u001b[0m\u001b[0;34m)\u001b[0m\u001b[0;34m.\u001b[0m\u001b[0mvector\u001b[0m\u001b[0;34m)\u001b[0m\u001b[0;34m\u001b[0m\u001b[0;34m\u001b[0m\u001b[0m\n",
            "\u001b[0;32m/usr/local/lib/python3.7/dist-packages/spacy/__init__.py\u001b[0m in \u001b[0;36mload\u001b[0;34m(name, **overrides)\u001b[0m\n\u001b[1;32m     28\u001b[0m     \u001b[0;32mif\u001b[0m \u001b[0mdepr_path\u001b[0m \u001b[0;32mnot\u001b[0m \u001b[0;32min\u001b[0m \u001b[0;34m(\u001b[0m\u001b[0;32mTrue\u001b[0m\u001b[0;34m,\u001b[0m \u001b[0;32mFalse\u001b[0m\u001b[0;34m,\u001b[0m \u001b[0;32mNone\u001b[0m\u001b[0;34m)\u001b[0m\u001b[0;34m:\u001b[0m\u001b[0;34m\u001b[0m\u001b[0;34m\u001b[0m\u001b[0m\n\u001b[1;32m     29\u001b[0m         \u001b[0mdeprecation_warning\u001b[0m\u001b[0;34m(\u001b[0m\u001b[0mWarnings\u001b[0m\u001b[0;34m.\u001b[0m\u001b[0mW001\u001b[0m\u001b[0;34m.\u001b[0m\u001b[0mformat\u001b[0m\u001b[0;34m(\u001b[0m\u001b[0mpath\u001b[0m\u001b[0;34m=\u001b[0m\u001b[0mdepr_path\u001b[0m\u001b[0;34m)\u001b[0m\u001b[0;34m)\u001b[0m\u001b[0;34m\u001b[0m\u001b[0;34m\u001b[0m\u001b[0m\n\u001b[0;32m---> 30\u001b[0;31m     \u001b[0;32mreturn\u001b[0m \u001b[0mutil\u001b[0m\u001b[0;34m.\u001b[0m\u001b[0mload_model\u001b[0m\u001b[0;34m(\u001b[0m\u001b[0mname\u001b[0m\u001b[0;34m,\u001b[0m \u001b[0;34m**\u001b[0m\u001b[0moverrides\u001b[0m\u001b[0;34m)\u001b[0m\u001b[0;34m\u001b[0m\u001b[0;34m\u001b[0m\u001b[0m\n\u001b[0m\u001b[1;32m     31\u001b[0m \u001b[0;34m\u001b[0m\u001b[0m\n\u001b[1;32m     32\u001b[0m \u001b[0;34m\u001b[0m\u001b[0m\n",
            "\u001b[0;32m/usr/local/lib/python3.7/dist-packages/spacy/util.py\u001b[0m in \u001b[0;36mload_model\u001b[0;34m(name, **overrides)\u001b[0m\n\u001b[1;32m    167\u001b[0m     \u001b[0;32melif\u001b[0m \u001b[0mhasattr\u001b[0m\u001b[0;34m(\u001b[0m\u001b[0mname\u001b[0m\u001b[0;34m,\u001b[0m \u001b[0;34m\"exists\"\u001b[0m\u001b[0;34m)\u001b[0m\u001b[0;34m:\u001b[0m  \u001b[0;31m# Path or Path-like to model data\u001b[0m\u001b[0;34m\u001b[0m\u001b[0;34m\u001b[0m\u001b[0m\n\u001b[1;32m    168\u001b[0m         \u001b[0;32mreturn\u001b[0m \u001b[0mload_model_from_path\u001b[0m\u001b[0;34m(\u001b[0m\u001b[0mname\u001b[0m\u001b[0;34m,\u001b[0m \u001b[0;34m**\u001b[0m\u001b[0moverrides\u001b[0m\u001b[0;34m)\u001b[0m\u001b[0;34m\u001b[0m\u001b[0;34m\u001b[0m\u001b[0m\n\u001b[0;32m--> 169\u001b[0;31m     \u001b[0;32mraise\u001b[0m \u001b[0mIOError\u001b[0m\u001b[0;34m(\u001b[0m\u001b[0mErrors\u001b[0m\u001b[0;34m.\u001b[0m\u001b[0mE050\u001b[0m\u001b[0;34m.\u001b[0m\u001b[0mformat\u001b[0m\u001b[0;34m(\u001b[0m\u001b[0mname\u001b[0m\u001b[0;34m=\u001b[0m\u001b[0mname\u001b[0m\u001b[0;34m)\u001b[0m\u001b[0;34m)\u001b[0m\u001b[0;34m\u001b[0m\u001b[0;34m\u001b[0m\u001b[0m\n\u001b[0m\u001b[1;32m    170\u001b[0m \u001b[0;34m\u001b[0m\u001b[0m\n\u001b[1;32m    171\u001b[0m \u001b[0;34m\u001b[0m\u001b[0m\n",
            "\u001b[0;31mOSError\u001b[0m: [E050] Can't find model 'en_core_web_md'. It doesn't seem to be a shortcut link, a Python package or a valid path to a data directory."
          ]
        }
      ]
    },
    {
      "cell_type": "code",
      "source": [
        "list(word2vec('in'))"
      ],
      "metadata": {
        "id": "V_9G_vsdRPl7"
      },
      "execution_count": null,
      "outputs": []
    },
    {
      "cell_type": "code",
      "source": [
        "import torch\n",
        "from torch.utils.data import Dataset, DataLoader\n",
        "\n",
        "class CustomDataset(Dataset): # inherited Dataset\n",
        "    def __init__(self,context_file,question_file,answer_file,labels_file):\n",
        "        self.contexts = self.embed(context_file)\n",
        "        self.questions = self.embed(question_file)\n",
        "        self.answers = self.embed(answer_file)\n",
        "        self.labels = (labels_file)\n",
        "\n",
        "    def __len__(self):\n",
        "        return len(self.questions)\n",
        "\n",
        "    def __getitem__(self,idx):\n",
        "        return torch.FloatTensor(self.contexts[idx]), torch.FloatTensor(self.questions[idx]), torch.FloatTensor(self.labels[idx]) ## CAN CHANGE IF WANTED\n",
        "\n",
        "    def embed(self,file):\n",
        "        embedded = []\n",
        "        for tokenset in file:\n",
        "            vectorset = []\n",
        "            for token in tokenset:\n",
        "                vectorset.append(word2vec(token))\n",
        "            embedded.append(vectorset)\n",
        "        return embedded"
      ],
      "metadata": {
        "id": "jBlsnzA1ScOf"
      },
      "execution_count": null,
      "outputs": []
    },
    {
      "cell_type": "code",
      "source": [
        "# CREATING AND TESTING DATALOADER ON A SMALL PART OF THE DATA\n",
        "from torch.nn.utils.rnn import *\n",
        "\n",
        "def pad_collate(batch):\n",
        "  (xx1, xx2, yy) = zip(*batch)\n",
        "  x1_lens = [len(x) for x in xx1]\n",
        "  x2_lens = [len(x) for x in xx2]\n",
        "  y_lens = [len(y) for y in yy]\n",
        "\n",
        "  xx1_pad = pad_sequence(xx1, batch_first=True, padding_value=0)\n",
        "  xx2_pad = pad_sequence(xx2, batch_first=True, padding_value=0)\n",
        "  yy_pad = pad_sequence(yy, batch_first=True, padding_value=0)\n",
        "\n",
        "  return xx1_pad, xx2_pad, yy_pad, x1_lens, x2_lens, y_lens\n",
        "\n",
        "dataset = CustomDataset(context_file[:5],question_file[:5],answer_file[:5],labels_file[:5])\n",
        "data_loader = DataLoader(dataset, batch_size=2, shuffle=True, collate_fn=pad_collate)"
      ],
      "metadata": {
        "id": "JMs9qXgBadk1"
      },
      "execution_count": null,
      "outputs": []
    },
    {
      "cell_type": "code",
      "source": [
        "[[y.shape for y in x] for x in dataset]"
      ],
      "metadata": {
        "id": "gSTDwd0L26h9"
      },
      "execution_count": null,
      "outputs": []
    },
    {
      "cell_type": "code",
      "source": [
        "for instance in data_loader:\n",
        "    print(instance)"
      ],
      "metadata": {
        "id": "Qs7-mTYSb4x_"
      },
      "execution_count": null,
      "outputs": []
    }
  ]
}